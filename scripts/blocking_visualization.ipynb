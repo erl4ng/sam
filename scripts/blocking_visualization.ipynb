{
 "cells": [
  {
   "cell_type": "code",
   "execution_count": 3,
   "id": "39e5707c",
   "metadata": {},
   "outputs": [],
   "source": [
    "import pandas as pd\n",
    "import matplotlib.pyplot as plt \n",
    "import tqdm\n",
    "import argparse\n",
    "import os\n",
    "import dataclasses\n",
    "import numpy\n",
    "\n",
    "from pathlib import Path\n",
    "from util import FormatWriter\n",
    "\n",
    "from util import TensorCollectionSuiteSparse, ScipyTensorShifter, \\\n",
    "    ScipyMatrixMarketTensorLoader, SuiteSparseTensor, safeCastScipyTensorToInts\n"
   ]
  },
  {
   "cell_type": "code",
   "execution_count": 4,
   "id": "3f0c8912",
   "metadata": {},
   "outputs": [],
   "source": [
    "SS_PATH = os.getenv('SUITESPARSE_PATH')\n",
    "\n",
    "ssMtx = dataclasses.make_dataclass(\"SS\", [(\"name\", str), (\"nnz\", int),\n",
    "                                          (\"dim1\", int), (\"dim2\", int),\n",
    "                                          (\"sparsity\", float), (\"seg_size\", int),\n",
    "                                          (\"crd_size\", int)])\n",
    "\n",
    "fiber_data = dataclasses.make_dataclass(\"FIBER\", [(\"name\", str), (\"dcsr0\", int),\n",
    "                                          (\"dcsr1\", [int]), (\"dcsc0\", int),\n",
    "                                          (\"dcsc1\", [int]), ])\n"
   ]
  },
  {
   "cell_type": "code",
   "execution_count": 5,
   "id": "09db0db9",
   "metadata": {},
   "outputs": [
    {
     "name": "stdout",
     "output_type": "stream",
     "text": [
      "/home/oliviahsu/Documents/research/datasets/suitesparse\n"
     ]
    }
   ],
   "source": [
    "print(SS_PATH)"
   ]
  },
  {
   "cell_type": "code",
   "execution_count": 6,
   "id": "74d47eef",
   "metadata": {},
   "outputs": [],
   "source": [
    "# UfuncInputCache attempts to avoid reading the same tensor from disk multiple\n",
    "# times in a benchmark run.\n",
    "class UfuncInputCache:\n",
    "    def __init__(self):\n",
    "        self.lastLoaded = None\n",
    "        self.lastName = None\n",
    "        self.tensor = None\n",
    "        self.other = None\n",
    "\n",
    "        self.shifter = ScipyTensorShifter()\n",
    "\n",
    "    def load(self, tensor, suitesparse, cast):\n",
    "        if self.lastName == str(tensor):\n",
    "            return self.tensor, self.other\n",
    "        else:\n",
    "            if suitesparse:\n",
    "                self.lastLoaded = tensor.load(ScipyMatrixMarketTensorLoader())\n",
    "            else:\n",
    "                self.lastLoaded = tensor.load()\n",
    "            self.lastName = str(tensor)\n",
    "            if cast:\n",
    "                self.tensor = safeCastScipyTensorToInts(self.lastLoaded)\n",
    "            else:\n",
    "                self.tensor = self.lastLoaded\n",
    "\n",
    "            self.other = self.shifter.shiftLastMode(self.lastLoaded)\n",
    "\n",
    "            return self.tensor, self.other\n",
    "\n",
    "\n",
    "inputCache = UfuncInputCache()"
   ]
  },
  {
   "cell_type": "code",
   "execution_count": 7,
   "id": "a884f208",
   "metadata": {},
   "outputs": [],
   "source": [
    "def fiber_stats(ss_tensor, tensor_coo, other_coo, show=False):\n",
    "    print(\"Getting fiber stats...\")\n",
    "    formatWriter = FormatWriter(True)\n",
    "    dcsr = formatWriter.convert_format(tensor_coo, \"dcsr\")\n",
    "    dcsc = formatWriter.convert_format(tensor_coo, \"dcsc\")\n",
    "\n",
    "    fiber_data_list = {}\n",
    "    fiber_data_list['dcsr0'] = [dcsr.seg0[x + 1] - dcsr.seg0[x] for x in range(len(dcsr.seg0)-1)][0]\n",
    "    fiber_data_list['dcsr1'] = [dcsr.seg1[x + 1] - dcsr.seg1[x] for x in range(len(dcsr.seg1)-1)]\n",
    "    fiber_data_list['dcsc0'] = [dcsc.seg0[x + 1] - dcsc.seg0[x] for x in range(len(dcsc.seg0)-1)][0]\n",
    "    fiber_data_list['dcsc1'] = [dcsc.seg1[x + 1] - dcsc.seg1[x] for x in range(len(dcsc.seg1)-1)]\n",
    "\n",
    "    if show:\n",
    "        fig, axes = plt.subplots(nrows=2, ncols=2, figsize=(10, 10))\n",
    "        counter = 0\n",
    "        for i in range(2):\n",
    "            for j in range(2):\n",
    "\n",
    "                ax = axes[i][j]\n",
    "\n",
    "                # Plot when we have data\n",
    "                if counter < len(fiber_data_list):\n",
    "\n",
    "                    key = sorted(list(fiber_data_list.keys()))[counter]\n",
    "                    ax.hist(fiber_data_list[key], color='blue', alpha=0.5,\n",
    "                            label='{}'.format(counter))\n",
    "\n",
    "                # Remove axis when we no longer have data\n",
    "                else:\n",
    "                    ax.set_axis_off()\n",
    "\n",
    "                counter += 1\n",
    "\n",
    "        plt.show()\n",
    "\n",
    "    return fiber_data(ss_tensor, **fiber_data_list)"
   ]
  },
  {
   "cell_type": "code",
   "execution_count": 8,
   "id": "2e939842",
   "metadata": {},
   "outputs": [],
   "source": [
    "def run_mtx(name):\n",
    "    filename = name + \".mtx\"\n",
    "    print(\"Processing %s\" % filename)\n",
    "\n",
    "    ss_tensor = SuiteSparseTensor(os.path.join(SS_PATH, filename))\n",
    "    tensor_coo, other_coo = inputCache.load(ss_tensor, True, False)\n",
    "\n",
    "    df = None\n",
    "    if not isinstance(ss_tensor, numpy.ndarray):\n",
    "        df = fiber_stats(ss_tensor, tensor_coo, other_coo)\n",
    "    return df"
   ]
  },
  {
   "cell_type": "code",
   "execution_count": 9,
   "id": "c031c404",
   "metadata": {},
   "outputs": [
    {
     "name": "stdout",
     "output_type": "stream",
     "text": [
      "Processing bcsstm02.mtx\n",
      "Getting fiber stats...\n",
      "Processing lp_scsd1.mtx\n",
      "Getting fiber stats...\n",
      "       name  dcsr0                                              dcsr1  dcsc0  \\\n",
      "0  bcsstm02     66  [1, 1, 1, 1, 1, 1, 1, 1, 1, 1, 1, 1, 1, 1, 1, ...     66   \n",
      "1  lp_scsd1     77  [24, 20, 24, 20, 24, 20, 24, 20, 24, 20, 24, 2...    760   \n",
      "\n",
      "                                               dcsc1  \n",
      "0  [1, 1, 1, 1, 1, 1, 1, 1, 1, 1, 1, 1, 1, 1, 1, ...  \n",
      "1  [2, 2, 2, 2, 2, 2, 2, 2, 2, 2, 4, 4, 4, 4, 4, ...  \n"
     ]
    }
   ],
   "source": [
    "matrices = ['bcsstm02', 'lp_scsd1']\n",
    "dfs = pd.DataFrame([run_mtx(x) for x in matrices])\n",
    "print(dfs)"
   ]
  },
  {
   "cell_type": "code",
   "execution_count": 10,
   "id": "d467edef",
   "metadata": {},
   "outputs": [
    {
     "data": {
      "text/plain": [
       "<AxesSubplot:>"
      ]
     },
     "execution_count": 10,
     "metadata": {},
     "output_type": "execute_result"
    },
    {
     "data": {
      "image/png": "[encoded data removed]",
      "text/plain": [
       "<Figure size 432x288 with 1 Axes>"
      ]
     },
     "metadata": {
      "needs_background": "light"
     },
     "output_type": "display_data"
    }
   ],
   "source": [
    "dfs['dcsr0'].hist()\n"
   ]
  },
  {
   "cell_type": "code",
   "execution_count": 11,
   "id": "c9755726",
   "metadata": {},
   "outputs": [
    {
     "data": {
      "text/plain": [
       "<AxesSubplot:>"
      ]
     },
     "execution_count": 11,
     "metadata": {},
     "output_type": "execute_result"
    },
    {
     "data": {
      "image/png": "[encoded data removed]",
      "text/plain": [
       "<Figure size 432x288 with 1 Axes>"
      ]
     },
     "metadata": {
      "needs_background": "light"
     },
     "output_type": "display_data"
    }
   ],
   "source": [
    "dfs['dcsr1'].hist()"
   ]
  },
  {
   "cell_type": "code",
   "execution_count": 12,
   "id": "95eeb70a",
   "metadata": {},
   "outputs": [
    {
     "data": {
      "text/plain": [
       "<AxesSubplot:>"
      ]
     },
     "execution_count": 12,
     "metadata": {},
     "output_type": "execute_result"
    },
    {
     "data": {
      "image/png": "[encoded data removed]",
      "text/plain": [
       "<Figure size 432x288 with 1 Axes>"
      ]
     },
     "metadata": {
      "needs_background": "light"
     },
     "output_type": "display_data"
    }
   ],
   "source": [
    "dfs['dcsc1'].hist()"
   ]
  },
  {
   "cell_type": "code",
   "execution_count": 16,
   "id": "b0d5ba3b",
   "metadata": {},
   "outputs": [],
   "source": [
    "def read_tensor_names(filename):\n",
    "    result = None\n",
    "    with open(filename, \"r\") as f:\n",
    "        result = f.read().splitlines()\n",
    "    return result"
   ]
  },
  {
   "cell_type": "code",
   "execution_count": 20,
   "id": "77bbf33c",
   "metadata": {},
   "outputs": [],
   "source": [
    "small50 = read_tensor_names(\"suitesparse_valid_small50.txt\")"
   ]
  },
  {
   "cell_type": "code",
   "execution_count": 21,
   "id": "f2870504",
   "metadata": {},
   "outputs": [
    {
     "name": "stdout",
     "output_type": "stream",
     "text": [
      "Processing Trec4.mtx\n"
     ]
    },
    {
     "ename": "FileNotFoundError",
     "evalue": "[Errno 2] No such file or directory: '/home/oliviahsu/Documents/research/datasets/suitesparse/Trec4.mtx'",
     "output_type": "error",
     "traceback": [
      "\u001b[0;31m---------------------------------------------------------------------------\u001b[0m",
      "\u001b[0;31mFileNotFoundError\u001b[0m                         Traceback (most recent call last)",
      "Input \u001b[0;32mIn [21]\u001b[0m, in \u001b[0;36m<cell line: 1>\u001b[0;34m()\u001b[0m\n\u001b[0;32m----> 1\u001b[0m dfs \u001b[38;5;241m=\u001b[39m pd\u001b[38;5;241m.\u001b[39mDataFrame([run_mtx(x) \u001b[38;5;28;01mfor\u001b[39;00m x \u001b[38;5;129;01min\u001b[39;00m small50])\n",
      "Input \u001b[0;32mIn [21]\u001b[0m, in \u001b[0;36m<listcomp>\u001b[0;34m(.0)\u001b[0m\n\u001b[0;32m----> 1\u001b[0m dfs \u001b[38;5;241m=\u001b[39m pd\u001b[38;5;241m.\u001b[39mDataFrame([\u001b[43mrun_mtx\u001b[49m\u001b[43m(\u001b[49m\u001b[43mx\u001b[49m\u001b[43m)\u001b[49m \u001b[38;5;28;01mfor\u001b[39;00m x \u001b[38;5;129;01min\u001b[39;00m small50])\n",
      "Input \u001b[0;32mIn [8]\u001b[0m, in \u001b[0;36mrun_mtx\u001b[0;34m(name)\u001b[0m\n\u001b[1;32m      3\u001b[0m \u001b[38;5;28mprint\u001b[39m(\u001b[38;5;124m\"\u001b[39m\u001b[38;5;124mProcessing \u001b[39m\u001b[38;5;132;01m%s\u001b[39;00m\u001b[38;5;124m\"\u001b[39m \u001b[38;5;241m%\u001b[39m filename)\n\u001b[1;32m      5\u001b[0m ss_tensor \u001b[38;5;241m=\u001b[39m SuiteSparseTensor(os\u001b[38;5;241m.\u001b[39mpath\u001b[38;5;241m.\u001b[39mjoin(SS_PATH, filename))\n\u001b[0;32m----> 6\u001b[0m tensor_coo, other_coo \u001b[38;5;241m=\u001b[39m \u001b[43minputCache\u001b[49m\u001b[38;5;241;43m.\u001b[39;49m\u001b[43mload\u001b[49m\u001b[43m(\u001b[49m\u001b[43mss_tensor\u001b[49m\u001b[43m,\u001b[49m\u001b[43m \u001b[49m\u001b[38;5;28;43;01mTrue\u001b[39;49;00m\u001b[43m,\u001b[49m\u001b[43m \u001b[49m\u001b[38;5;28;43;01mFalse\u001b[39;49;00m\u001b[43m)\u001b[49m\n\u001b[1;32m      8\u001b[0m df \u001b[38;5;241m=\u001b[39m \u001b[38;5;28;01mNone\u001b[39;00m\n\u001b[1;32m      9\u001b[0m \u001b[38;5;28;01mif\u001b[39;00m \u001b[38;5;129;01mnot\u001b[39;00m \u001b[38;5;28misinstance\u001b[39m(ss_tensor, numpy\u001b[38;5;241m.\u001b[39mndarray):\n",
      "Input \u001b[0;32mIn [6]\u001b[0m, in \u001b[0;36mUfuncInputCache.load\u001b[0;34m(self, tensor, suitesparse, cast)\u001b[0m\n\u001b[1;32m     15\u001b[0m \u001b[38;5;28;01melse\u001b[39;00m:\n\u001b[1;32m     16\u001b[0m     \u001b[38;5;28;01mif\u001b[39;00m suitesparse:\n\u001b[0;32m---> 17\u001b[0m         \u001b[38;5;28mself\u001b[39m\u001b[38;5;241m.\u001b[39mlastLoaded \u001b[38;5;241m=\u001b[39m \u001b[43mtensor\u001b[49m\u001b[38;5;241;43m.\u001b[39;49m\u001b[43mload\u001b[49m\u001b[43m(\u001b[49m\u001b[43mScipyMatrixMarketTensorLoader\u001b[49m\u001b[43m(\u001b[49m\u001b[43m)\u001b[49m\u001b[43m)\u001b[49m\n\u001b[1;32m     18\u001b[0m     \u001b[38;5;28;01melse\u001b[39;00m:\n\u001b[1;32m     19\u001b[0m         \u001b[38;5;28mself\u001b[39m\u001b[38;5;241m.\u001b[39mlastLoaded \u001b[38;5;241m=\u001b[39m tensor\u001b[38;5;241m.\u001b[39mload()\n",
      "File \u001b[0;32m~/Documents/research/aha-sparsity/sam/scripts/util.py:528\u001b[0m, in \u001b[0;36mSuiteSparseTensor.load\u001b[0;34m(self, loader)\u001b[0m\n\u001b[1;32m    527\u001b[0m \u001b[38;5;28;01mdef\u001b[39;00m \u001b[38;5;21mload\u001b[39m(\u001b[38;5;28mself\u001b[39m, loader):\n\u001b[0;32m--> 528\u001b[0m     \u001b[38;5;28;01mreturn\u001b[39;00m \u001b[43mloader\u001b[49m\u001b[38;5;241;43m.\u001b[39;49m\u001b[43mload\u001b[49m\u001b[43m(\u001b[49m\u001b[38;5;28;43mself\u001b[39;49m\u001b[38;5;241;43m.\u001b[39;49m\u001b[43mpath\u001b[49m\u001b[43m)\u001b[49m\n",
      "File \u001b[0;32m~/Documents/research/aha-sparsity/sam/scripts/util.py:183\u001b[0m, in \u001b[0;36mScipyMatrixMarketTensorLoader.load\u001b[0;34m(self, path)\u001b[0m\n\u001b[1;32m    182\u001b[0m \u001b[38;5;28;01mdef\u001b[39;00m \u001b[38;5;21mload\u001b[39m(\u001b[38;5;28mself\u001b[39m, path):\n\u001b[0;32m--> 183\u001b[0m     coo \u001b[38;5;241m=\u001b[39m \u001b[43mscipy\u001b[49m\u001b[38;5;241;43m.\u001b[39;49m\u001b[43mio\u001b[49m\u001b[38;5;241;43m.\u001b[39;49m\u001b[43mmmread\u001b[49m\u001b[43m(\u001b[49m\u001b[43mpath\u001b[49m\u001b[43m)\u001b[49m\n\u001b[1;32m    184\u001b[0m     \u001b[38;5;28;01mreturn\u001b[39;00m coo\n",
      "File \u001b[0;32m~/.local/lib/python3.8/site-packages/scipy/io/_mmio.py:76\u001b[0m, in \u001b[0;36mmmread\u001b[0;34m(source)\u001b[0m\n\u001b[1;32m     60\u001b[0m \u001b[38;5;28;01mdef\u001b[39;00m \u001b[38;5;21mmmread\u001b[39m(source):\n\u001b[1;32m     61\u001b[0m     \u001b[38;5;124;03m\"\"\"\u001b[39;00m\n\u001b[1;32m     62\u001b[0m \u001b[38;5;124;03m    Reads the contents of a Matrix Market file-like 'source' into a matrix.\u001b[39;00m\n\u001b[1;32m     63\u001b[0m \n\u001b[0;32m   (...)\u001b[0m\n\u001b[1;32m     74\u001b[0m \u001b[38;5;124;03m        Matrix Market file.\u001b[39;00m\n\u001b[1;32m     75\u001b[0m \u001b[38;5;124;03m    \"\"\"\u001b[39;00m\n\u001b[0;32m---> 76\u001b[0m     \u001b[38;5;28;01mreturn\u001b[39;00m \u001b[43mMMFile\u001b[49m\u001b[43m(\u001b[49m\u001b[43m)\u001b[49m\u001b[38;5;241;43m.\u001b[39;49m\u001b[43mread\u001b[49m\u001b[43m(\u001b[49m\u001b[43msource\u001b[49m\u001b[43m)\u001b[49m\n",
      "File \u001b[0;32m~/.local/lib/python3.8/site-packages/scipy/io/_mmio.py:432\u001b[0m, in \u001b[0;36mMMFile.read\u001b[0;34m(self, source)\u001b[0m\n\u001b[1;32m    416\u001b[0m \u001b[38;5;28;01mdef\u001b[39;00m \u001b[38;5;21mread\u001b[39m(\u001b[38;5;28mself\u001b[39m, source):\n\u001b[1;32m    417\u001b[0m     \u001b[38;5;124;03m\"\"\"\u001b[39;00m\n\u001b[1;32m    418\u001b[0m \u001b[38;5;124;03m    Reads the contents of a Matrix Market file-like 'source' into a matrix.\u001b[39;00m\n\u001b[1;32m    419\u001b[0m \n\u001b[0;32m   (...)\u001b[0m\n\u001b[1;32m    430\u001b[0m \u001b[38;5;124;03m        Matrix Market file.\u001b[39;00m\n\u001b[1;32m    431\u001b[0m \u001b[38;5;124;03m    \"\"\"\u001b[39;00m\n\u001b[0;32m--> 432\u001b[0m     stream, close_it \u001b[38;5;241m=\u001b[39m \u001b[38;5;28;43mself\u001b[39;49m\u001b[38;5;241;43m.\u001b[39;49m\u001b[43m_open\u001b[49m\u001b[43m(\u001b[49m\u001b[43msource\u001b[49m\u001b[43m)\u001b[49m\n\u001b[1;32m    434\u001b[0m     \u001b[38;5;28;01mtry\u001b[39;00m:\n\u001b[1;32m    435\u001b[0m         \u001b[38;5;28mself\u001b[39m\u001b[38;5;241m.\u001b[39m_parse_header(stream)\n",
      "File \u001b[0;32m~/.local/lib/python3.8/site-packages/scipy/io/_mmio.py:328\u001b[0m, in \u001b[0;36mMMFile._open\u001b[0;34m(filespec, mode)\u001b[0m\n\u001b[1;32m    326\u001b[0m         stream \u001b[38;5;241m=\u001b[39m bz2\u001b[38;5;241m.\u001b[39mBZ2File(filespec, \u001b[38;5;124m'\u001b[39m\u001b[38;5;124mrb\u001b[39m\u001b[38;5;124m'\u001b[39m)\n\u001b[1;32m    327\u001b[0m     \u001b[38;5;28;01melse\u001b[39;00m:\n\u001b[0;32m--> 328\u001b[0m         stream \u001b[38;5;241m=\u001b[39m \u001b[38;5;28;43mopen\u001b[39;49m\u001b[43m(\u001b[49m\u001b[43mfilespec\u001b[49m\u001b[43m,\u001b[49m\u001b[43m \u001b[49m\u001b[43mmode\u001b[49m\u001b[43m)\u001b[49m\n\u001b[1;32m    330\u001b[0m \u001b[38;5;66;03m# open for writing\u001b[39;00m\n\u001b[1;32m    331\u001b[0m \u001b[38;5;28;01melse\u001b[39;00m:\n\u001b[1;32m    332\u001b[0m     \u001b[38;5;28;01mif\u001b[39;00m filespec[\u001b[38;5;241m-\u001b[39m\u001b[38;5;241m4\u001b[39m:] \u001b[38;5;241m!=\u001b[39m \u001b[38;5;124m'\u001b[39m\u001b[38;5;124m.mtx\u001b[39m\u001b[38;5;124m'\u001b[39m:\n",
      "\u001b[0;31mFileNotFoundError\u001b[0m: [Errno 2] No such file or directory: '/home/oliviahsu/Documents/research/datasets/suitesparse/Trec4.mtx'"
     ]
    }
   ],
   "source": [
    "dfs = pd.DataFrame([run_mtx(x) for x in small50])"
   ]
  },
  {
   "cell_type": "code",
   "execution_count": null,
   "id": "6ca2ba3e",
   "metadata": {},
   "outputs": [],
   "source": []
  }
 ],
 "metadata": {
  "kernelspec": {
   "display_name": "Python 3 (ipykernel)",
   "language": "python",
   "name": "python3"
  },
  "language_info": {
   "codemirror_mode": {
    "name": "ipython",
    "version": 3
   },
   "file_extension": ".py",
   "mimetype": "text/x-python",
   "name": "python",
   "nbconvert_exporter": "python",
   "pygments_lexer": "ipython3",
   "version": "3.8.12"
  }
 },
 "nbformat": 4,
 "nbformat_minor": 5
}
